{
 "cells": [
  {
   "cell_type": "code",
   "execution_count": 1,
   "metadata": {
    "collapsed": true
   },
   "outputs": [],
   "source": [
    "import pandas as pd\n",
    "import numpy as np\n",
    "import matplotlib.pyplot as plt\n",
    "import seaborn as sns\n",
    "\n",
    "%matplotlib inline"
   ]
  },
  {
   "cell_type": "code",
   "execution_count": 2,
   "metadata": {},
   "outputs": [
    {
     "name": "stdout",
     "output_type": "stream",
     "text": [
      "Index(['Pregnancies', 'Glucose', 'BloodPressure', 'SkinThickness', 'Insulin',\n",
      "       'BMI', 'DiabetesPedigreeFunction', 'Age', 'Outcome'],\n",
      "      dtype='object')\n",
      "   Pregnancies  Glucose  BloodPressure  SkinThickness  Insulin   BMI  \\\n",
      "0            6      148             72             35        0  33.6   \n",
      "1            1       85             66             29        0  26.6   \n",
      "2            8      183             64              0        0  23.3   \n",
      "3            1       89             66             23       94  28.1   \n",
      "4            0      137             40             35      168  43.1   \n",
      "\n",
      "   DiabetesPedigreeFunction  Age  Outcome  \n",
      "0                     0.627   50        1  \n",
      "1                     0.351   31        0  \n",
      "2                     0.672   32        1  \n",
      "3                     0.167   21        0  \n",
      "4                     2.288   33        1  \n",
      "<class 'pandas.core.frame.DataFrame'>\n",
      "rows,columns = (768, 9)\n"
     ]
    }
   ],
   "source": [
    "data_set = pd.read_csv('diabetes.csv')\n",
    "print(data_set.columns)    \n",
    "print(data_set.head())\n",
    "print(type(data_set))\n",
    "print(\"rows,columns = {}\".format(data_set.shape))"
   ]
  },
  {
   "cell_type": "code",
   "execution_count": 3,
   "metadata": {},
   "outputs": [
    {
     "data": {
      "text/plain": [
       "Outcome\n",
       "0    500\n",
       "1    268\n",
       "dtype: int64"
      ]
     },
     "execution_count": 3,
     "metadata": {},
     "output_type": "execute_result"
    }
   ],
   "source": [
    "# Number of diabetes and non diabetes \n",
    "data_set.groupby('Outcome').size()"
   ]
  },
  {
   "cell_type": "code",
   "execution_count": 4,
   "metadata": {},
   "outputs": [
    {
     "data": {
      "text/plain": [
       "<matplotlib.axes._subplots.AxesSubplot at 0x209f8097748>"
      ]
     },
     "execution_count": 4,
     "metadata": {},
     "output_type": "execute_result"
    },
    {
     "data": {
      "image/png": "[encoded data removed]",
      "text/plain": [
       "<matplotlib.figure.Figure at 0x209f80706d8>"
      ]
     },
     "metadata": {},
     "output_type": "display_data"
    }
   ],
   "source": [
    "sns.countplot(data_set['Outcome'], label = 'Count')"
   ]
  },
  {
   "cell_type": "code",
   "execution_count": 8,
   "metadata": {},
   "outputs": [
    {
     "data": {
      "text/plain": [
       "False"
      ]
     },
     "execution_count": 8,
     "metadata": {},
     "output_type": "execute_result"
    }
   ],
   "source": [
    "# Checking for null\n",
    "data_set.isnull().values.any()"
   ]
  },
  {
   "cell_type": "code",
   "execution_count": 9,
   "metadata": {},
   "outputs": [
    {
     "data": {
      "text/html": [
       "<div>\n",
       "<style>\n",
       "    .dataframe thead tr:only-child th {\n",
       "        text-align: right;\n",
       "    }\n",
       "\n",
       "    .dataframe thead th {\n",
       "        text-align: left;\n",
       "    }\n",
       "\n",
       "    .dataframe tbody tr th {\n",
       "        vertical-align: top;\n",
       "    }\n",
       "</style>\n",
       "<table border=\"1\" class=\"dataframe\">\n",
       "  <thead>\n",
       "    <tr style=\"text-align: right;\">\n",
       "      <th></th>\n",
       "      <th>Pregnancies</th>\n",
       "      <th>Glucose</th>\n",
       "      <th>BloodPressure</th>\n",
       "      <th>SkinThickness</th>\n",
       "      <th>Insulin</th>\n",
       "      <th>BMI</th>\n",
       "      <th>DiabetesPedigreeFunction</th>\n",
       "      <th>Age</th>\n",
       "      <th>Outcome</th>\n",
       "    </tr>\n",
       "  </thead>\n",
       "  <tbody>\n",
       "    <tr>\n",
       "      <th>count</th>\n",
       "      <td>768.000000</td>\n",
       "      <td>768.000000</td>\n",
       "      <td>768.000000</td>\n",
       "      <td>768.000000</td>\n",
       "      <td>768.000000</td>\n",
       "      <td>768.000000</td>\n",
       "      <td>768.000000</td>\n",
       "      <td>768.000000</td>\n",
       "      <td>768.000000</td>\n",
       "    </tr>\n",
       "    <tr>\n",
       "      <th>mean</th>\n",
       "      <td>3.845052</td>\n",
       "      <td>120.894531</td>\n",
       "      <td>69.105469</td>\n",
       "      <td>20.536458</td>\n",
       "      <td>79.799479</td>\n",
       "      <td>31.992578</td>\n",
       "      <td>0.471876</td>\n",
       "      <td>33.240885</td>\n",
       "      <td>0.348958</td>\n",
       "    </tr>\n",
       "    <tr>\n",
       "      <th>std</th>\n",
       "      <td>3.369578</td>\n",
       "      <td>31.972618</td>\n",
       "      <td>19.355807</td>\n",
       "      <td>15.952218</td>\n",
       "      <td>115.244002</td>\n",
       "      <td>7.884160</td>\n",
       "      <td>0.331329</td>\n",
       "      <td>11.760232</td>\n",
       "      <td>0.476951</td>\n",
       "    </tr>\n",
       "    <tr>\n",
       "      <th>min</th>\n",
       "      <td>0.000000</td>\n",
       "      <td>0.000000</td>\n",
       "      <td>0.000000</td>\n",
       "      <td>0.000000</td>\n",
       "      <td>0.000000</td>\n",
       "      <td>0.000000</td>\n",
       "      <td>0.078000</td>\n",
       "      <td>21.000000</td>\n",
       "      <td>0.000000</td>\n",
       "    </tr>\n",
       "    <tr>\n",
       "      <th>25%</th>\n",
       "      <td>1.000000</td>\n",
       "      <td>99.000000</td>\n",
       "      <td>62.000000</td>\n",
       "      <td>0.000000</td>\n",
       "      <td>0.000000</td>\n",
       "      <td>27.300000</td>\n",
       "      <td>0.243750</td>\n",
       "      <td>24.000000</td>\n",
       "      <td>0.000000</td>\n",
       "    </tr>\n",
       "    <tr>\n",
       "      <th>50%</th>\n",
       "      <td>3.000000</td>\n",
       "      <td>117.000000</td>\n",
       "      <td>72.000000</td>\n",
       "      <td>23.000000</td>\n",
       "      <td>30.500000</td>\n",
       "      <td>32.000000</td>\n",
       "      <td>0.372500</td>\n",
       "      <td>29.000000</td>\n",
       "      <td>0.000000</td>\n",
       "    </tr>\n",
       "    <tr>\n",
       "      <th>75%</th>\n",
       "      <td>6.000000</td>\n",
       "      <td>140.250000</td>\n",
       "      <td>80.000000</td>\n",
       "      <td>32.000000</td>\n",
       "      <td>127.250000</td>\n",
       "      <td>36.600000</td>\n",
       "      <td>0.626250</td>\n",
       "      <td>41.000000</td>\n",
       "      <td>1.000000</td>\n",
       "    </tr>\n",
       "    <tr>\n",
       "      <th>max</th>\n",
       "      <td>17.000000</td>\n",
       "      <td>199.000000</td>\n",
       "      <td>122.000000</td>\n",
       "      <td>99.000000</td>\n",
       "      <td>846.000000</td>\n",
       "      <td>67.100000</td>\n",
       "      <td>2.420000</td>\n",
       "      <td>81.000000</td>\n",
       "      <td>1.000000</td>\n",
       "    </tr>\n",
       "  </tbody>\n",
       "</table>\n",
       "</div>"
      ],
      "text/plain": [
       "       Pregnancies     Glucose  BloodPressure  SkinThickness     Insulin  \\\n",
       "count   768.000000  768.000000     768.000000     768.000000  768.000000   \n",
       "mean      3.845052  120.894531      69.105469      20.536458   79.799479   \n",
       "std       3.369578   31.972618      19.355807      15.952218  115.244002   \n",
       "min       0.000000    0.000000       0.000000       0.000000    0.000000   \n",
       "25%       1.000000   99.000000      62.000000       0.000000    0.000000   \n",
       "50%       3.000000  117.000000      72.000000      23.000000   30.500000   \n",
       "75%       6.000000  140.250000      80.000000      32.000000  127.250000   \n",
       "max      17.000000  199.000000     122.000000      99.000000  846.000000   \n",
       "\n",
       "              BMI  DiabetesPedigreeFunction         Age     Outcome  \n",
       "count  768.000000                768.000000  768.000000  768.000000  \n",
       "mean    31.992578                  0.471876   33.240885    0.348958  \n",
       "std      7.884160                  0.331329   11.760232    0.476951  \n",
       "min      0.000000                  0.078000   21.000000    0.000000  \n",
       "25%     27.300000                  0.243750   24.000000    0.000000  \n",
       "50%     32.000000                  0.372500   29.000000    0.000000  \n",
       "75%     36.600000                  0.626250   41.000000    1.000000  \n",
       "max     67.100000                  2.420000   81.000000    1.000000  "
      ]
     },
     "execution_count": 9,
     "metadata": {},
     "output_type": "execute_result"
    }
   ],
   "source": [
    "data_set.describe()"
   ]
  },
  {
   "cell_type": "code",
   "execution_count": 10,
   "metadata": {},
   "outputs": [
    {
     "name": "stdout",
     "output_type": "stream",
     "text": [
      "X_train shape = (576, 7)\n",
      "X_test shape = (192, 7)\n",
      "Y_train shape = (576,)\n",
      "Y_test shape = (192,)\n"
     ]
    }
   ],
   "source": [
    "# Stratified random sampling\n",
    "\n",
    "from sklearn.model_selection import train_test_split\n",
    "\n",
    "X_train, X_test, Y_train, Y_test = train_test_split(data_set.iloc[:,0:7],data_set.iloc[:,8],\n",
    "                                                   stratify = data_set.iloc[:,8], random_state = 1)\n",
    "print(\"X_train shape = \"+ str(X_train.shape))\n",
    "print(\"X_test shape = \"+ str(X_test.shape))\n",
    "print(\"Y_train shape = \"+ str(Y_train.shape))\n",
    "print(\"Y_test shape = \"+ str(Y_test.shape))\n"
   ]
  },
  {
   "cell_type": "code",
   "execution_count": 11,
   "metadata": {
    "collapsed": true
   },
   "outputs": [],
   "source": [
    "# Re-scaling the data so that all featurs are approximately on the same scale\n",
    "\n",
    "from sklearn.preprocessing import MinMaxScaler\n",
    "\n",
    "s = MinMaxScaler()\n",
    "X_train_s = s.fit_transform(X_train)\n",
    "X_test_s = s.fit_transform(X_test)\n"
   ]
  },
  {
   "cell_type": "code",
   "execution_count": 14,
   "metadata": {},
   "outputs": [
    {
     "data": {
      "image/png": "[encoded data removed]",
      "text/plain": [
       "<matplotlib.figure.Figure at 0x209f8a985c0>"
      ]
     },
     "metadata": {},
     "output_type": "display_data"
    }
   ],
   "source": [
    "# Logistic Regression\n",
    "\n",
    "c = [0.01,0.1,1,10,100,150,200]\n",
    "train_accuracy_logit = []\n",
    "test_accuracy_logit = []\n",
    "for i in c:\n",
    "    Logit_model = LogisticRegression(C=i).fit(X_train,Y_train)\n",
    "    train_accuracy_logit.append(Logit_model.score(X_train,Y_train))\n",
    "    test_accuracy_logit.append(Logit_model.score(X_test, Y_test))\n",
    "\n",
    "plt.plot(c, train_accuracy_logit, label = 'train')\n",
    "plt.plot(c, test_accuracy_logit, label = 'test')\n",
    "plt.ylabel('Accuracy')\n",
    "plt.xlabel('C')\n",
    "plt.legend()\n",
    "plt.savefig('Logit')\n",
    "    "
   ]
  },
  {
   "cell_type": "code",
   "execution_count": 13,
   "metadata": {},
   "outputs": [
    {
     "name": "stdout",
     "output_type": "stream",
     "text": [
      "Training accuracy for Logistic regression = 0.7777777777777778\n",
      "Test accuracy for Logistic regression = 0.7864583333333334\n"
     ]
    }
   ],
   "source": [
    "# Logistic regression\n",
    "from sklearn.linear_model import LogisticRegression\n",
    "\n",
    "Logit_model = LogisticRegression(C=150).fit(X_train,Y_train) # C\n",
    "print(\"Training accuracy for Logistic regression = {}\".format(Logit_model.score(X_train,Y_train)))\n",
    "print(\"Test accuracy for Logistic regression = {}\".format(Logit_model.score(X_test,Y_test)))"
   ]
  },
  {
   "cell_type": "code",
   "execution_count": 15,
   "metadata": {
    "collapsed": true
   },
   "outputs": [],
   "source": [
    "# KNN\n",
    "from sklearn.neighbors import KNeighborsClassifier\n",
    "\n",
    "train_accuracy = []\n",
    "test_accuracy = []\n",
    "no_clusters = np.arange(1,20)\n",
    "\n",
    "for i in no_clusters:\n",
    "    knn_model = KNeighborsClassifier(n_neighbors = i)\n",
    "    knn_model.fit(X_train,Y_train)\n",
    "    train_accuracy.append(knn_model.score(X_train,Y_train))\n",
    "    test_accuracy.append(knn_model.score(X_test, Y_test))\n",
    "    "
   ]
  },
  {
   "cell_type": "code",
   "execution_count": 16,
   "metadata": {},
   "outputs": [
    {
     "data": {
      "image/png": "[encoded data removed]",
      "text/plain": [
       "<matplotlib.figure.Figure at 0x209f8c5e630>"
      ]
     },
     "metadata": {},
     "output_type": "display_data"
    }
   ],
   "source": [
    "# Finding the number of clusters\n",
    "\n",
    "plt.plot(no_clusters, train_accuracy, label = 'train')\n",
    "plt.plot(no_clusters, test_accuracy, label = 'test')\n",
    "plt.ylabel('Accuracy')\n",
    "plt.xlabel('Number of clusters')\n",
    "plt.legend()\n",
    "plt.savefig('Knn')"
   ]
  },
  {
   "cell_type": "code",
   "execution_count": 17,
   "metadata": {},
   "outputs": [
    {
     "name": "stdout",
     "output_type": "stream",
     "text": [
      "Training accuracy for KNN = 0.7829861111111112\n",
      "Test accuracy for KNN = 0.71875\n"
     ]
    }
   ],
   "source": [
    "# from the plot above the max test accuracy is for n = 6\n",
    "\n",
    "knn_model = KNeighborsClassifier(n_neighbors = 6)\n",
    "knn_model.fit(X_train,Y_train)\n",
    "print(\"Training accuracy for KNN = {}\".format(knn_model.score(X_train,Y_train)))\n",
    "print(\"Test accuracy for KNN = {}\".format(knn_model.score(X_test,Y_test)))\n"
   ]
  },
  {
   "cell_type": "code",
   "execution_count": 18,
   "metadata": {},
   "outputs": [
    {
     "name": "stdout",
     "output_type": "stream",
     "text": [
      "Training accuracy for KNN = 0.8003472222222222\n",
      "Test accuracy for KNN = 0.6770833333333334\n"
     ]
    }
   ],
   "source": [
    "# Model using the scaled data\n",
    "\n",
    "knn_model = KNeighborsClassifier(n_neighbors = 6)\n",
    "knn_model.fit(X_train_s,Y_train)\n",
    "print(\"Training accuracy for KNN = {}\".format(knn_model.score(X_train_s,Y_train)))\n",
    "print(\"Test accuracy for KNN = {}\".format(knn_model.score(X_test_s,Y_test)))\n",
    "\n",
    "# Training accuracy increased but test accuracy decreased "
   ]
  },
  {
   "cell_type": "code",
   "execution_count": 26,
   "metadata": {},
   "outputs": [
    {
     "name": "stdout",
     "output_type": "stream",
     "text": [
      "Training accuracy for Decision Tree = 1.0\n",
      "Test accuracy for Decision Tree = 0.6927083333333334\n"
     ]
    }
   ],
   "source": [
    "# Decision Tree\n",
    "\n",
    "from sklearn.tree import DecisionTreeClassifier\n",
    "\n",
    "tree = DecisionTreeClassifier(random_state = 1)\n",
    "tree.fit(X_train,Y_train)\n",
    "print(\"Training accuracy for Decision Tree = {}\".format(tree.score(X_train,Y_train)))\n",
    "print(\"Test accuracy for Decision Tree = {}\".format(tree.score(X_test,Y_test)))\n",
    "\n",
    "# as training accuracy is 1 and test is low that means the tree is over-fitted"
   ]
  },
  {
   "cell_type": "code",
   "execution_count": 27,
   "metadata": {},
   "outputs": [],
   "source": [
    "# Pre-pruning\n",
    "\n",
    "depth = [1,2,3,4,5]\n",
    "train_accuracy_tree = []\n",
    "test_accuracy_tree = []\n",
    "for i in depth:\n",
    "    tree = DecisionTreeClassifier(max_depth = i,random_state = 1)\n",
    "    tree.fit(X_train,Y_train)\n",
    "    train_accuracy_tree.append(tree.score(X_train,Y_train))\n",
    "    test_accuracy_tree.append(tree.score(X_test, Y_test))\n",
    "    "
   ]
  },
  {
   "cell_type": "code",
   "execution_count": 72,
   "metadata": {},
   "outputs": [
    {
     "data": {
      "image/png": "[encoded data removed]",
      "text/plain": [
       "<matplotlib.figure.Figure at 0x267a5a796a0>"
      ]
     },
     "metadata": {},
     "output_type": "display_data"
    }
   ],
   "source": [
    "# Finding the number of clusters\n",
    "\n",
    "plt.plot(depth, train_accuracy_tree, label = 'train')\n",
    "plt.plot(depth, test_accuracy_tree, label = 'test')\n",
    "plt.ylabel('Accuracy')\n",
    "plt.xlabel('Max depth of the tree')\n",
    "plt.legend()\n",
    "plt.savefig('tree')\n",
    "\n",
    "# at max_depth 3 we have max test accuracy"
   ]
  },
  {
   "cell_type": "code",
   "execution_count": 28,
   "metadata": {},
   "outputs": [
    {
     "name": "stdout",
     "output_type": "stream",
     "text": [
      "Training accuracy for Decision Tree = 0.7986111111111112\n",
      "Test accuracy for Decision Tree = 0.7604166666666666\n"
     ]
    }
   ],
   "source": [
    "tree = DecisionTreeClassifier(max_depth = 3,random_state = 1)\n",
    "tree.fit(X_train,Y_train)\n",
    "print(\"Training accuracy for Decision Tree = {}\".format(tree.score(X_train,Y_train)))\n",
    "print(\"Test accuracy for Decision Tree = {}\".format(tree.score(X_test,Y_test)))\n"
   ]
  },
  {
   "cell_type": "code",
   "execution_count": 84,
   "metadata": {},
   "outputs": [
    {
     "data": {
      "image/png": "[encoded data removed]",
      "text/plain": [
       "<matplotlib.figure.Figure at 0x209f8c5e978>"
      ]
     },
     "metadata": {},
     "output_type": "display_data"
    }
   ],
   "source": [
    "# Feature impotence\n",
    "diabetes_features = [x for i,x in enumerate(data_set.columns) if i!=8]\n",
    "\n",
    "def plot_feature_importances_diabetes(model):\n",
    "    plt.figure(figsize=(8,6))\n",
    "    n_features = 8\n",
    "    plt.barh(range(n_features-1), model.feature_importances_, align='center')\n",
    "    plt.yticks(np.arange(n_features), diabetes_features)\n",
    "    plt.xlabel(\"Feature importance\")\n",
    "    plt.ylabel(\"Feature\")\n",
    "    plt.ylim(-1, n_features)\n",
    "\n",
    "    \n",
    "plot_feature_importances_diabetes(tree)\n",
    "plt.savefig('Tree_feature_imp')\n"
   ]
  },
  {
   "cell_type": "code",
   "execution_count": 32,
   "metadata": {},
   "outputs": [
    {
     "name": "stdout",
     "output_type": "stream",
     "text": [
      "Training accuracy for Decision Tree = 1.0\n",
      "Test accuracy for Decision Tree = 0.7135416666666666\n"
     ]
    }
   ],
   "source": [
    "# Random Forest\n",
    "\n",
    "from sklearn.ensemble import RandomForestClassifier\n",
    "\n",
    "Rand_forest = RandomForestClassifier(n_estimators=100, random_state = 1)\n",
    "Rand_forest.fit(X_train,Y_train)\n",
    "print(\"Training accuracy for Decision Tree = {}\".format(Rand_forest.score(X_train,Y_train)))\n",
    "print(\"Test accuracy for Decision Tree = {}\".format(Rand_forest.score(X_test,Y_test)))\n"
   ]
  },
  {
   "cell_type": "code",
   "execution_count": 40,
   "metadata": {},
   "outputs": [
    {
     "name": "stdout",
     "output_type": "stream",
     "text": [
      "Training accuracy for Decision Tree = 0.8055555555555556\n",
      "Test accuracy for Decision Tree = 0.7291666666666666\n"
     ]
    }
   ],
   "source": [
    "# Overfitting\n",
    "\n",
    "Rand_forest_1 = RandomForestClassifier(max_depth=3, n_estimators=100, random_state = 1 )\n",
    "Rand_forest_1.fit(X_train, Y_train)\n",
    "print(\"Training accuracy for Decision Tree = {}\".format(Rand_forest_1.score(X_train,Y_train)))\n",
    "print(\"Test accuracy for Decision Tree = {}\".format(Rand_forest_1.score(X_test,Y_test)))"
   ]
  },
  {
   "cell_type": "code",
   "execution_count": 85,
   "metadata": {},
   "outputs": [
    {
     "data": {
      "image/png": "[encoded data removed]",
      "text/plain": [
       "<matplotlib.figure.Figure at 0x209f8c16390>"
      ]
     },
     "metadata": {},
     "output_type": "display_data"
    }
   ],
   "source": [
    "# plotting feature importance\n",
    "plot_feature_importances_diabetes(Rand_forest_1)"
   ]
  },
  {
   "cell_type": "code",
   "execution_count": 43,
   "metadata": {},
   "outputs": [
    {
     "name": "stdout",
     "output_type": "stream",
     "text": [
      "Training accuracy for Decision Tree = 0.9166666666666666\n",
      "Test accuracy for Decision Tree = 0.7395833333333334\n"
     ]
    }
   ],
   "source": [
    "# Gradient Boosting\n",
    "\n",
    "from sklearn.ensemble import GradientBoostingClassifier\n",
    "gb = GradientBoostingClassifier(random_state=0)\n",
    "gb.fit(X_train, Y_train)\n",
    "print(\"Training accuracy for Decision Tree = {}\".format(gb.score(X_train,Y_train)))\n",
    "print(\"Test accuracy for Decision Tree = {}\".format(gb.score(X_test,Y_test)))"
   ]
  },
  {
   "cell_type": "code",
   "execution_count": 63,
   "metadata": {},
   "outputs": [
    {
     "data": {
      "image/png": "[encoded data removed]",
      "text/plain": [
       "<matplotlib.figure.Figure at 0x209f919dc50>"
      ]
     },
     "metadata": {},
     "output_type": "display_data"
    }
   ],
   "source": [
    "max_depth = [1,2,3,4,5]\n",
    "test_accuracy_gb1 = []\n",
    "train_accuracy_gb1 = []\n",
    "    \n",
    "for i in max_depth:\n",
    "    gb1 = GradientBoostingClassifier(random_state=0, max_depth=i+1)\n",
    "    gb1.fit(X_train, Y_train)\n",
    "    train_accuracy_gb1.append(gb1.score(X_train, Y_train))\n",
    "    test_accuracy_gb1.append(gb1.score(X_test, Y_test))\n",
    "\n",
    "plt.plot(max_depth,train_accuracy_gb1, label = \"train accuracy\")\n",
    "plt.plot(max_depth,test_accuracy_gb1, label = \"test accuracy\")\n",
    "plt.legend()\n",
    "plt.xlabel('Max depth')\n",
    "plt.ylabel('Accuracy')\n",
    "plt.savefig('Gradent Boosting')\n",
    "\n",
    "# max_depth = 1"
   ]
  },
  {
   "cell_type": "code",
   "execution_count": 74,
   "metadata": {},
   "outputs": [
    {
     "name": "stdout",
     "output_type": "stream",
     "text": [
      "Training accuracy for Decision Tree = 0.9166666666666666\n",
      "Test accuracy for Decision Tree = 0.7395833333333334\n"
     ]
    }
   ],
   "source": [
    "# SVM\n",
    "\n",
    "from sklearn.svm import SVC\n",
    "svc = SVC()\n",
    "svc.fit(X_train, Y_train)\n",
    "print(\"Training accuracy for Decision Tree = {}\".format(gb.score(X_train,Y_train)))\n",
    "print(\"Test accuracy for Decision Tree = {}\".format(gb.score(X_test,Y_test)))"
   ]
  },
  {
   "cell_type": "code",
   "execution_count": 72,
   "metadata": {},
   "outputs": [
    {
     "name": "stdout",
     "output_type": "stream",
     "text": [
      "Training accuracy for Decision Tree = 0.6510416666666666\n",
      "Test accuracy for Decision Tree = 0.6510416666666666\n"
     ]
    }
   ],
   "source": [
    "# As SVM works better with scalling\n",
    "svc = SVC()\n",
    "svc.fit(X_train_s, Y_train)\n",
    "print(\"Training accuracy for Decision Tree = {}\".format(gb.score(X_train_s,Y_train)))\n",
    "print(\"Test accuracy for Decision Tree = {}\".format(gb.score(X_test_s,Y_test)))"
   ]
  },
  {
   "cell_type": "code",
   "execution_count": 76,
   "metadata": {},
   "outputs": [
    {
     "name": "stdout",
     "output_type": "stream",
     "text": [
      "Training accuracy for Decision Tree = 0.3402777777777778\n",
      "Test accuracy for Decision Tree = 0.421875\n"
     ]
    }
   ],
   "source": [
    "# Deep Learning\n",
    "from sklearn.neural_network import MLPClassifier\n",
    "mlp = MLPClassifier(random_state=1)\n",
    "mlp.fit(X_train, Y_train)\n",
    "print(\"Training accuracy for Decision Tree = {}\".format(mlp.score(X_train,Y_train)))\n",
    "print(\"Test accuracy for Decision Tree = {}\".format(mlp.score(X_test,Y_test)))"
   ]
  },
  {
   "cell_type": "code",
   "execution_count": 77,
   "metadata": {},
   "outputs": [
    {
     "name": "stdout",
     "output_type": "stream",
     "text": [
      "Training accuracy for Decision Tree = 0.78125\n",
      "Test accuracy for Decision Tree = 0.7552083333333334\n"
     ]
    }
   ],
   "source": [
    "mlp = MLPClassifier(random_state=1)\n",
    "mlp.fit(X_train_s, Y_train)\n",
    "print(\"Training accuracy for Decision Tree = {}\".format(mlp.score(X_train_s,Y_train)))\n",
    "print(\"Test accuracy for Decision Tree = {}\".format(mlp.score(X_test_s,Y_test)))"
   ]
  },
  {
   "cell_type": "code",
   "execution_count": 80,
   "metadata": {},
   "outputs": [
    {
     "name": "stderr",
     "output_type": "stream",
     "text": [
      "C:\\Users\\Prudhvinath\\Anaconda3\\lib\\site-packages\\sklearn\\neural_network\\multilayer_perceptron.py:564: ConvergenceWarning: Stochastic Optimizer: Maximum iterations (10) reached and the optimization hasn't converged yet.\n",
      "  % self.max_iter, ConvergenceWarning)\n",
      "C:\\Users\\Prudhvinath\\Anaconda3\\lib\\site-packages\\sklearn\\neural_network\\multilayer_perceptron.py:564: ConvergenceWarning: Stochastic Optimizer: Maximum iterations (100) reached and the optimization hasn't converged yet.\n",
      "  % self.max_iter, ConvergenceWarning)\n"
     ]
    },
    {
     "data": {
      "image/png": "[encoded data removed]",
      "text/plain": [
       "<matplotlib.figure.Figure at 0x209fa217518>"
      ]
     },
     "metadata": {},
     "output_type": "display_data"
    }
   ],
   "source": [
    "max_iteration = [10,100,1000,2000]\n",
    "test_accuracy_mlp = []\n",
    "train_accuracy_mlp = []\n",
    "\n",
    "for i in max_iteration:\n",
    "    mlp = MLPClassifier(max_iter = i, random_state=1)\n",
    "    mlp.fit(X_train_s, Y_train)\n",
    "    train_accuracy_mlp.append(mlp.score(X_train_s, Y_train))\n",
    "    test_accuracy_mlp.append(mlp.score(X_test_s, Y_test))\n",
    "\n",
    "plt.plot(max_iteration,train_accuracy_mlp, label = \"train accuracy\")\n",
    "plt.plot(max_iteration,test_accuracy_mlp, label = \"test accuracy\")\n",
    "plt.legend()\n",
    "plt.xlabel('Max iterations')\n",
    "plt.ylabel('Accuracy')\n",
    "plt.savefig('MLP')\n"
   ]
  }
 ],
 "metadata": {
  "kernelspec": {
   "display_name": "Python 3",
   "language": "python",
   "name": "python3"
  },
  "language_info": {
   "codemirror_mode": {
    "name": "ipython",
    "version": 3
   },
   "file_extension": ".py",
   "mimetype": "text/x-python",
   "name": "python",
   "nbconvert_exporter": "python",
   "pygments_lexer": "ipython3",
   "version": "3.6.3"
  }
 },
 "nbformat": 4,
 "nbformat_minor": 2
}
