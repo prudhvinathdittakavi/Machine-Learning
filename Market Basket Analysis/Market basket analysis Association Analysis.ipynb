{
  "cells": [
    {
      "metadata": {
        "_uuid": "8f2839f25d086af736a60e9eeb907d3b93b6e0e5",
        "_cell_guid": "b1076dfc-b9ad-4769-8c92-a6c4dae69d19",
        "trusted": true
      },
      "cell_type": "code",
      "source": "# This Python 3 environment comes with many helpful analytics libraries installed\n# It is defined by the kaggle/python docker image: https://github.com/kaggle/docker-python\n# For example, here's several helpful packages to load in \n\nimport numpy as np # linear algebra\nimport pandas as pd # data processing, CSV file I/O (e.g. pd.read_csv)\n\nfrom mlxtend.frequent_patterns import apriori\nfrom mlxtend.frequent_patterns import association_rules\n# Input data files are available in the \"../input/\" directory.\n# For example, running this (by clicking run or pressing Shift+Enter) will list the files in the input directory\n\nimport os\nprint(os.listdir(\"../input\"))\n\n# Any results you write to the current directory are saved as output.",
      "execution_count": 46,
      "outputs": [
        {
          "output_type": "stream",
          "text": "['Online Retail.xlsx']\n",
          "name": "stdout"
        }
      ]
    },
    {
      "metadata": {
        "_cell_guid": "79c7e3d0-c299-4dcb-8224-4455121ee9b0",
        "_uuid": "d629ff2d2480ee46fbb7e2d37f6b5fab8052498a",
        "trusted": true
      },
      "cell_type": "code",
      "source": "data = pd.read_excel(\"../input/Online Retail.xlsx\")",
      "execution_count": 47,
      "outputs": []
    },
    {
      "metadata": {
        "trusted": true,
        "_uuid": "26e9cd91d69f378c9ff6740923a7cf40406a3fe1"
      },
      "cell_type": "code",
      "source": "data.head()",
      "execution_count": null,
      "outputs": []
    },
    {
      "metadata": {
        "trusted": true,
        "_uuid": "e66e9eba4fbbe53badb8664068ba115e5b57b0eb"
      },
      "cell_type": "code",
      "source": "data['StockCode'].nunique()",
      "execution_count": null,
      "outputs": []
    },
    {
      "metadata": {
        "trusted": true,
        "_uuid": "03b1da78fa9758e4732f084bce2f32c56bcf1e6a"
      },
      "cell_type": "code",
      "source": "data['InvoiceNo'].nunique()",
      "execution_count": null,
      "outputs": []
    },
    {
      "metadata": {
        "trusted": true,
        "_uuid": "719a024db387d4a8ff816f2e9322dcd767582cf9"
      },
      "cell_type": "code",
      "source": "data.isnull().any()",
      "execution_count": null,
      "outputs": []
    },
    {
      "metadata": {
        "trusted": true,
        "_uuid": "772c212443a0cbdfe87ff228ea35d53a12c2e1d9"
      },
      "cell_type": "code",
      "source": "data.describe()",
      "execution_count": null,
      "outputs": []
    },
    {
      "metadata": {
        "trusted": true,
        "_uuid": "611baee4a3ea36d9d4f79d59429c7ba4ec729142"
      },
      "cell_type": "code",
      "source": "data['Description'] = data['Description'].str.strip()\n",
      "execution_count": 48,
      "outputs": []
    },
    {
      "metadata": {
        "trusted": true,
        "scrolled": true,
        "_uuid": "2cc338fc46a02dd16b16c7000887b16461fcf771"
      },
      "cell_type": "code",
      "source": "# as data set is huge let us use only France.\ndata['Country'].value_counts()",
      "execution_count": null,
      "outputs": []
    },
    {
      "metadata": {
        "trusted": true,
        "_uuid": "d2c7afcbf7e8536eda012a12faebe2417c7ca106"
      },
      "cell_type": "code",
      "source": "df = data[data['Country'] == 'France']",
      "execution_count": 49,
      "outputs": []
    },
    {
      "metadata": {
        "trusted": true,
        "_uuid": "b5d68428f2d7aa789573e9b217a78f84a1b3c502",
        "scrolled": true
      },
      "cell_type": "code",
      "source": "ndf = (df.groupby(['InvoiceNo', 'Description'])['Quantity'].sum().unstack().fillna(0))",
      "execution_count": 71,
      "outputs": []
    },
    {
      "metadata": {
        "trusted": true,
        "_uuid": "4f0a2a628e6a23a191c365bccbfee8c90490f976"
      },
      "cell_type": "code",
      "source": "def converter(x):\n    if x >= 1:\n        return 1\n    elif x <= 0:\n        return 0",
      "execution_count": 72,
      "outputs": []
    },
    {
      "metadata": {
        "trusted": true,
        "_uuid": "fef9a943ff1de76cefdef30339f4b6d2869669d0"
      },
      "cell_type": "code",
      "source": "ndf = ndf.applymap(converter)",
      "execution_count": 73,
      "outputs": []
    },
    {
      "metadata": {
        "trusted": true,
        "_uuid": "f3d39da06cf62d5ff1d9ad6b72ac17f7df77f6a4"
      },
      "cell_type": "code",
      "source": "freq_items = apriori(ndf, min_support=0.1, use_colnames=True)",
      "execution_count": 74,
      "outputs": []
    },
    {
      "metadata": {
        "trusted": true,
        "scrolled": true,
        "_uuid": "a8568c8767e3d52782de1026dd2e9c0f91e80b3f"
      },
      "cell_type": "code",
      "source": "freq_items",
      "execution_count": 79,
      "outputs": [
        {
          "output_type": "execute_result",
          "execution_count": 79,
          "data": {
            "text/plain": "     support                                           itemsets\n0   0.106291                           (LUNCH BAG APPLE DESIGN)\n1   0.130152                          (LUNCH BAG RED RETROSPOT)\n2   0.101952                        (LUNCH BAG SPACEBOY DESIGN)\n3   0.121475                 (LUNCH BOX WITH CUTLERY RETROSPOT)\n4   0.143167                    (PLASTERS IN TIN CIRCUS PARADE)\n5   0.117137                         (PLASTERS IN TIN SPACEBOY)\n6   0.145336                 (PLASTERS IN TIN WOODLAND ANIMALS)\n7   0.650759                                          (POSTAGE)\n8   0.160521                               (RABBIT NIGHT LIGHT)\n9   0.117137                         (RED RETROSPOT MINI CASES)\n10  0.154013                    (RED TOADSTOOL LED NIGHT LIGHT)\n11  0.106291                         (REGENCY CAKESTAND 3 TIER)\n12  0.134490               (ROUND SNACK BOXES SET OF4 WOODLAND)\n13  0.112798               (SET/20 RED RETROSPOT PAPER NAPKINS)\n14  0.117137                      (SET/6 RED SPOTTY PAPER CUPS)\n15  0.108460                    (SET/6 RED SPOTTY PAPER PLATES)\n16  0.106291                               (SPACEBOY LUNCH BOX)\n17  0.104121                (STRAWBERRY LUNCH BOX WITH CUTLERY)\n18  0.104121                 (POSTAGE, LUNCH BAG RED RETROSPOT)\n19  0.125813           (PLASTERS IN TIN CIRCUS PARADE, POSTAGE)\n20  0.117137        (POSTAGE, PLASTERS IN TIN WOODLAND ANIMALS)\n21  0.140998                      (RABBIT NIGHT LIGHT, POSTAGE)\n22  0.134490           (RED TOADSTOOL LED NIGHT LIGHT, POSTAGE)\n23  0.125813      (POSTAGE, ROUND SNACK BOXES SET OF4 WOODLAND)\n24  0.104121  (SET/6 RED SPOTTY PAPER PLATES, SET/6 RED SPOT...",
            "text/html": "<div>\n<style scoped>\n    .dataframe tbody tr th:only-of-type {\n        vertical-align: middle;\n    }\n\n    .dataframe tbody tr th {\n        vertical-align: top;\n    }\n\n    .dataframe thead th {\n        text-align: right;\n    }\n</style>\n<table border=\"1\" class=\"dataframe\">\n  <thead>\n    <tr style=\"text-align: right;\">\n      <th></th>\n      <th>support</th>\n      <th>itemsets</th>\n    </tr>\n  </thead>\n  <tbody>\n    <tr>\n      <th>0</th>\n      <td>0.106291</td>\n      <td>(LUNCH BAG APPLE DESIGN)</td>\n    </tr>\n    <tr>\n      <th>1</th>\n      <td>0.130152</td>\n      <td>(LUNCH BAG RED RETROSPOT)</td>\n    </tr>\n    <tr>\n      <th>2</th>\n      <td>0.101952</td>\n      <td>(LUNCH BAG SPACEBOY DESIGN)</td>\n    </tr>\n    <tr>\n      <th>3</th>\n      <td>0.121475</td>\n      <td>(LUNCH BOX WITH CUTLERY RETROSPOT)</td>\n    </tr>\n    <tr>\n      <th>4</th>\n      <td>0.143167</td>\n      <td>(PLASTERS IN TIN CIRCUS PARADE)</td>\n    </tr>\n    <tr>\n      <th>5</th>\n      <td>0.117137</td>\n      <td>(PLASTERS IN TIN SPACEBOY)</td>\n    </tr>\n    <tr>\n      <th>6</th>\n      <td>0.145336</td>\n      <td>(PLASTERS IN TIN WOODLAND ANIMALS)</td>\n    </tr>\n    <tr>\n      <th>7</th>\n      <td>0.650759</td>\n      <td>(POSTAGE)</td>\n    </tr>\n    <tr>\n      <th>8</th>\n      <td>0.160521</td>\n      <td>(RABBIT NIGHT LIGHT)</td>\n    </tr>\n    <tr>\n      <th>9</th>\n      <td>0.117137</td>\n      <td>(RED RETROSPOT MINI CASES)</td>\n    </tr>\n    <tr>\n      <th>10</th>\n      <td>0.154013</td>\n      <td>(RED TOADSTOOL LED NIGHT LIGHT)</td>\n    </tr>\n    <tr>\n      <th>11</th>\n      <td>0.106291</td>\n      <td>(REGENCY CAKESTAND 3 TIER)</td>\n    </tr>\n    <tr>\n      <th>12</th>\n      <td>0.134490</td>\n      <td>(ROUND SNACK BOXES SET OF4 WOODLAND)</td>\n    </tr>\n    <tr>\n      <th>13</th>\n      <td>0.112798</td>\n      <td>(SET/20 RED RETROSPOT PAPER NAPKINS)</td>\n    </tr>\n    <tr>\n      <th>14</th>\n      <td>0.117137</td>\n      <td>(SET/6 RED SPOTTY PAPER CUPS)</td>\n    </tr>\n    <tr>\n      <th>15</th>\n      <td>0.108460</td>\n      <td>(SET/6 RED SPOTTY PAPER PLATES)</td>\n    </tr>\n    <tr>\n      <th>16</th>\n      <td>0.106291</td>\n      <td>(SPACEBOY LUNCH BOX)</td>\n    </tr>\n    <tr>\n      <th>17</th>\n      <td>0.104121</td>\n      <td>(STRAWBERRY LUNCH BOX WITH CUTLERY)</td>\n    </tr>\n    <tr>\n      <th>18</th>\n      <td>0.104121</td>\n      <td>(POSTAGE, LUNCH BAG RED RETROSPOT)</td>\n    </tr>\n    <tr>\n      <th>19</th>\n      <td>0.125813</td>\n      <td>(PLASTERS IN TIN CIRCUS PARADE, POSTAGE)</td>\n    </tr>\n    <tr>\n      <th>20</th>\n      <td>0.117137</td>\n      <td>(POSTAGE, PLASTERS IN TIN WOODLAND ANIMALS)</td>\n    </tr>\n    <tr>\n      <th>21</th>\n      <td>0.140998</td>\n      <td>(RABBIT NIGHT LIGHT, POSTAGE)</td>\n    </tr>\n    <tr>\n      <th>22</th>\n      <td>0.134490</td>\n      <td>(RED TOADSTOOL LED NIGHT LIGHT, POSTAGE)</td>\n    </tr>\n    <tr>\n      <th>23</th>\n      <td>0.125813</td>\n      <td>(POSTAGE, ROUND SNACK BOXES SET OF4 WOODLAND)</td>\n    </tr>\n    <tr>\n      <th>24</th>\n      <td>0.104121</td>\n      <td>(SET/6 RED SPOTTY PAPER PLATES, SET/6 RED SPOT...</td>\n    </tr>\n  </tbody>\n</table>\n</div>"
          },
          "metadata": {}
        }
      ]
    },
    {
      "metadata": {
        "trusted": true,
        "_uuid": "99cee70b08f1b05704a76dda13962c54f2b94ed1"
      },
      "cell_type": "code",
      "source": "rules = association_rules(freq_items, metric=\"lift\", min_threshold=1)\nrules.head()",
      "execution_count": 80,
      "outputs": [
        {
          "output_type": "execute_result",
          "execution_count": 80,
          "data": {
            "text/plain": "                       antecedents    ...     conviction\n0                        (POSTAGE)    ...       1.035534\n1        (LUNCH BAG RED RETROSPOT)    ...       1.746204\n2  (PLASTERS IN TIN CIRCUS PARADE)    ...       2.881236\n3                        (POSTAGE)    ...       1.062190\n4                        (POSTAGE)    ...       1.042273\n\n[5 rows x 9 columns]",
            "text/html": "<div>\n<style scoped>\n    .dataframe tbody tr th:only-of-type {\n        vertical-align: middle;\n    }\n\n    .dataframe tbody tr th {\n        vertical-align: top;\n    }\n\n    .dataframe thead th {\n        text-align: right;\n    }\n</style>\n<table border=\"1\" class=\"dataframe\">\n  <thead>\n    <tr style=\"text-align: right;\">\n      <th></th>\n      <th>antecedents</th>\n      <th>consequents</th>\n      <th>antecedent support</th>\n      <th>consequent support</th>\n      <th>support</th>\n      <th>confidence</th>\n      <th>lift</th>\n      <th>leverage</th>\n      <th>conviction</th>\n    </tr>\n  </thead>\n  <tbody>\n    <tr>\n      <th>0</th>\n      <td>(POSTAGE)</td>\n      <td>(LUNCH BAG RED RETROSPOT)</td>\n      <td>0.650759</td>\n      <td>0.130152</td>\n      <td>0.104121</td>\n      <td>0.160000</td>\n      <td>1.229333</td>\n      <td>0.019424</td>\n      <td>1.035534</td>\n    </tr>\n    <tr>\n      <th>1</th>\n      <td>(LUNCH BAG RED RETROSPOT)</td>\n      <td>(POSTAGE)</td>\n      <td>0.130152</td>\n      <td>0.650759</td>\n      <td>0.104121</td>\n      <td>0.800000</td>\n      <td>1.229333</td>\n      <td>0.019424</td>\n      <td>1.746204</td>\n    </tr>\n    <tr>\n      <th>2</th>\n      <td>(PLASTERS IN TIN CIRCUS PARADE)</td>\n      <td>(POSTAGE)</td>\n      <td>0.143167</td>\n      <td>0.650759</td>\n      <td>0.125813</td>\n      <td>0.878788</td>\n      <td>1.350404</td>\n      <td>0.032646</td>\n      <td>2.881236</td>\n    </tr>\n    <tr>\n      <th>3</th>\n      <td>(POSTAGE)</td>\n      <td>(PLASTERS IN TIN CIRCUS PARADE)</td>\n      <td>0.650759</td>\n      <td>0.143167</td>\n      <td>0.125813</td>\n      <td>0.193333</td>\n      <td>1.350404</td>\n      <td>0.032646</td>\n      <td>1.062190</td>\n    </tr>\n    <tr>\n      <th>4</th>\n      <td>(POSTAGE)</td>\n      <td>(PLASTERS IN TIN WOODLAND ANIMALS)</td>\n      <td>0.650759</td>\n      <td>0.145336</td>\n      <td>0.117137</td>\n      <td>0.180000</td>\n      <td>1.238507</td>\n      <td>0.022558</td>\n      <td>1.042273</td>\n    </tr>\n  </tbody>\n</table>\n</div>"
          },
          "metadata": {}
        }
      ]
    },
    {
      "metadata": {
        "trusted": true,
        "_uuid": "519d0b52b5af7232e6399175947a87d5c03c1a3b"
      },
      "cell_type": "code",
      "source": "rules  ",
      "execution_count": 81,
      "outputs": [
        {
          "output_type": "execute_result",
          "execution_count": 81,
          "data": {
            "text/plain": "                             antecedents    ...     conviction\n0                              (POSTAGE)    ...       1.035534\n1              (LUNCH BAG RED RETROSPOT)    ...       1.746204\n2        (PLASTERS IN TIN CIRCUS PARADE)    ...       2.881236\n3                              (POSTAGE)    ...       1.062190\n4                              (POSTAGE)    ...       1.042273\n5     (PLASTERS IN TIN WOODLAND ANIMALS)    ...       1.799933\n6                   (RABBIT NIGHT LIGHT)    ...       2.871535\n7                              (POSTAGE)    ...       1.071676\n8        (RED TOADSTOOL LED NIGHT LIGHT)    ...       2.755122\n9                              (POSTAGE)    ...       1.066370\n10                             (POSTAGE)    ...       1.072946\n11  (ROUND SNACK BOXES SET OF4 WOODLAND)    ...       5.413232\n12       (SET/6 RED SPOTTY PAPER PLATES)    ...      22.071584\n13         (SET/6 RED SPOTTY PAPER CUPS)    ...       8.023861\n\n[14 rows x 9 columns]",
            "text/html": "<div>\n<style scoped>\n    .dataframe tbody tr th:only-of-type {\n        vertical-align: middle;\n    }\n\n    .dataframe tbody tr th {\n        vertical-align: top;\n    }\n\n    .dataframe thead th {\n        text-align: right;\n    }\n</style>\n<table border=\"1\" class=\"dataframe\">\n  <thead>\n    <tr style=\"text-align: right;\">\n      <th></th>\n      <th>antecedents</th>\n      <th>consequents</th>\n      <th>antecedent support</th>\n      <th>consequent support</th>\n      <th>support</th>\n      <th>confidence</th>\n      <th>lift</th>\n      <th>leverage</th>\n      <th>conviction</th>\n    </tr>\n  </thead>\n  <tbody>\n    <tr>\n      <th>0</th>\n      <td>(POSTAGE)</td>\n      <td>(LUNCH BAG RED RETROSPOT)</td>\n      <td>0.650759</td>\n      <td>0.130152</td>\n      <td>0.104121</td>\n      <td>0.160000</td>\n      <td>1.229333</td>\n      <td>0.019424</td>\n      <td>1.035534</td>\n    </tr>\n    <tr>\n      <th>1</th>\n      <td>(LUNCH BAG RED RETROSPOT)</td>\n      <td>(POSTAGE)</td>\n      <td>0.130152</td>\n      <td>0.650759</td>\n      <td>0.104121</td>\n      <td>0.800000</td>\n      <td>1.229333</td>\n      <td>0.019424</td>\n      <td>1.746204</td>\n    </tr>\n    <tr>\n      <th>2</th>\n      <td>(PLASTERS IN TIN CIRCUS PARADE)</td>\n      <td>(POSTAGE)</td>\n      <td>0.143167</td>\n      <td>0.650759</td>\n      <td>0.125813</td>\n      <td>0.878788</td>\n      <td>1.350404</td>\n      <td>0.032646</td>\n      <td>2.881236</td>\n    </tr>\n    <tr>\n      <th>3</th>\n      <td>(POSTAGE)</td>\n      <td>(PLASTERS IN TIN CIRCUS PARADE)</td>\n      <td>0.650759</td>\n      <td>0.143167</td>\n      <td>0.125813</td>\n      <td>0.193333</td>\n      <td>1.350404</td>\n      <td>0.032646</td>\n      <td>1.062190</td>\n    </tr>\n    <tr>\n      <th>4</th>\n      <td>(POSTAGE)</td>\n      <td>(PLASTERS IN TIN WOODLAND ANIMALS)</td>\n      <td>0.650759</td>\n      <td>0.145336</td>\n      <td>0.117137</td>\n      <td>0.180000</td>\n      <td>1.238507</td>\n      <td>0.022558</td>\n      <td>1.042273</td>\n    </tr>\n    <tr>\n      <th>5</th>\n      <td>(PLASTERS IN TIN WOODLAND ANIMALS)</td>\n      <td>(POSTAGE)</td>\n      <td>0.145336</td>\n      <td>0.650759</td>\n      <td>0.117137</td>\n      <td>0.805970</td>\n      <td>1.238507</td>\n      <td>0.022558</td>\n      <td>1.799933</td>\n    </tr>\n    <tr>\n      <th>6</th>\n      <td>(RABBIT NIGHT LIGHT)</td>\n      <td>(POSTAGE)</td>\n      <td>0.160521</td>\n      <td>0.650759</td>\n      <td>0.140998</td>\n      <td>0.878378</td>\n      <td>1.349775</td>\n      <td>0.036538</td>\n      <td>2.871535</td>\n    </tr>\n    <tr>\n      <th>7</th>\n      <td>(POSTAGE)</td>\n      <td>(RABBIT NIGHT LIGHT)</td>\n      <td>0.650759</td>\n      <td>0.160521</td>\n      <td>0.140998</td>\n      <td>0.216667</td>\n      <td>1.349775</td>\n      <td>0.036538</td>\n      <td>1.071676</td>\n    </tr>\n    <tr>\n      <th>8</th>\n      <td>(RED TOADSTOOL LED NIGHT LIGHT)</td>\n      <td>(POSTAGE)</td>\n      <td>0.154013</td>\n      <td>0.650759</td>\n      <td>0.134490</td>\n      <td>0.873239</td>\n      <td>1.341878</td>\n      <td>0.034265</td>\n      <td>2.755122</td>\n    </tr>\n    <tr>\n      <th>9</th>\n      <td>(POSTAGE)</td>\n      <td>(RED TOADSTOOL LED NIGHT LIGHT)</td>\n      <td>0.650759</td>\n      <td>0.154013</td>\n      <td>0.134490</td>\n      <td>0.206667</td>\n      <td>1.341878</td>\n      <td>0.034265</td>\n      <td>1.066370</td>\n    </tr>\n    <tr>\n      <th>10</th>\n      <td>(POSTAGE)</td>\n      <td>(ROUND SNACK BOXES SET OF4 WOODLAND)</td>\n      <td>0.650759</td>\n      <td>0.134490</td>\n      <td>0.125813</td>\n      <td>0.193333</td>\n      <td>1.437527</td>\n      <td>0.038293</td>\n      <td>1.072946</td>\n    </tr>\n    <tr>\n      <th>11</th>\n      <td>(ROUND SNACK BOXES SET OF4 WOODLAND)</td>\n      <td>(POSTAGE)</td>\n      <td>0.134490</td>\n      <td>0.650759</td>\n      <td>0.125813</td>\n      <td>0.935484</td>\n      <td>1.437527</td>\n      <td>0.038293</td>\n      <td>5.413232</td>\n    </tr>\n    <tr>\n      <th>12</th>\n      <td>(SET/6 RED SPOTTY PAPER PLATES)</td>\n      <td>(SET/6 RED SPOTTY PAPER CUPS)</td>\n      <td>0.108460</td>\n      <td>0.117137</td>\n      <td>0.104121</td>\n      <td>0.960000</td>\n      <td>8.195556</td>\n      <td>0.091417</td>\n      <td>22.071584</td>\n    </tr>\n    <tr>\n      <th>13</th>\n      <td>(SET/6 RED SPOTTY PAPER CUPS)</td>\n      <td>(SET/6 RED SPOTTY PAPER PLATES)</td>\n      <td>0.117137</td>\n      <td>0.108460</td>\n      <td>0.104121</td>\n      <td>0.888889</td>\n      <td>8.195556</td>\n      <td>0.091417</td>\n      <td>8.023861</td>\n    </tr>\n  </tbody>\n</table>\n</div>"
          },
          "metadata": {}
        }
      ]
    },
    {
      "metadata": {
        "_uuid": "d13ed028d0e8c456a6d982a6476a0c916b807ef0"
      },
      "cell_type": "markdown",
      "source": "* As conviction tells the dependency of Consequents on the antecedents we can see from above table that who ever buys paper plates will definately has higher probability of buying paper cups.\n* Who ever buys rabbit night lamp and plasters in tin circular parade will definately has higher probability of buying postage.\n"
    },
    {
      "metadata": {
        "trusted": true,
        "_uuid": "87d487ffb94f35bc39da657e519438ed4197222b"
      },
      "cell_type": "code",
      "source": "",
      "execution_count": null,
      "outputs": []
    }
  ],
  "metadata": {
    "kernelspec": {
      "display_name": "Python 3",
      "language": "python",
      "name": "python3"
    },
    "language_info": {
      "name": "python",
      "version": "3.6.6",
      "mimetype": "text/x-python",
      "codemirror_mode": {
        "name": "ipython",
        "version": 3
      },
      "pygments_lexer": "ipython3",
      "nbconvert_exporter": "python",
      "file_extension": ".py"
    }
  },
  "nbformat": 4,
  "nbformat_minor": 1
}